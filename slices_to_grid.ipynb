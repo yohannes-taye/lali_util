{
 "cells": [
  {
   "cell_type": "code",
   "execution_count": 1,
   "metadata": {},
   "outputs": [],
   "source": [
    "import numpy as np \n",
    "import cv2\n",
    "import numpy as np\n",
    "import matplotlib.pyplot as plt\n",
    "from os import listdir\n",
    "from os.path import isfile, join\n",
    "from PIL import Image\n",
    "import math\n"
   ]
  },
  {
   "cell_type": "code",
   "execution_count": 3,
   "metadata": {},
   "outputs": [
    {
     "ename": "FileNotFoundError",
     "evalue": "[Errno 2] No such file or directory: '/home/tmc/project/instant-ngp/tulagu/rgba_slices'",
     "output_type": "error",
     "traceback": [
      "\u001b[0;31m---------------------------------------------------------------------------\u001b[0m",
      "\u001b[0;31mFileNotFoundError\u001b[0m                         Traceback (most recent call last)",
      "\u001b[0;32m<ipython-input-3-f76428c42bf7>\u001b[0m in \u001b[0;36m<module>\u001b[0;34m\u001b[0m\n\u001b[1;32m      3\u001b[0m \u001b[0mmypath\u001b[0m \u001b[0;34m=\u001b[0m \u001b[0;34m\"/home/tmc/project/instant-ngp/tulagu/rgba_slices\"\u001b[0m\u001b[0;34m\u001b[0m\u001b[0;34m\u001b[0m\u001b[0m\n\u001b[1;32m      4\u001b[0m \u001b[0moutput\u001b[0m \u001b[0;34m=\u001b[0m \u001b[0;34m\"/home/tmc/project/instant-ngp/tulagu/\"\u001b[0m\u001b[0;34m\u001b[0m\u001b[0;34m\u001b[0m\u001b[0m\n\u001b[0;32m----> 5\u001b[0;31m \u001b[0monlyfiles\u001b[0m \u001b[0;34m=\u001b[0m \u001b[0;34m[\u001b[0m\u001b[0mf\u001b[0m \u001b[0;32mfor\u001b[0m \u001b[0mf\u001b[0m \u001b[0;32min\u001b[0m \u001b[0mlistdir\u001b[0m\u001b[0;34m(\u001b[0m\u001b[0mmypath\u001b[0m\u001b[0;34m)\u001b[0m \u001b[0;32mif\u001b[0m \u001b[0misfile\u001b[0m\u001b[0;34m(\u001b[0m\u001b[0mjoin\u001b[0m\u001b[0;34m(\u001b[0m\u001b[0mmypath\u001b[0m\u001b[0;34m,\u001b[0m \u001b[0mf\u001b[0m\u001b[0;34m)\u001b[0m\u001b[0;34m)\u001b[0m\u001b[0;34m]\u001b[0m\u001b[0;34m\u001b[0m\u001b[0;34m\u001b[0m\u001b[0m\n\u001b[0m\u001b[1;32m      6\u001b[0m \u001b[0monlyfiles\u001b[0m\u001b[0;34m.\u001b[0m\u001b[0msort\u001b[0m\u001b[0;34m(\u001b[0m\u001b[0;34m)\u001b[0m\u001b[0;34m\u001b[0m\u001b[0;34m\u001b[0m\u001b[0m\n\u001b[1;32m      7\u001b[0m \u001b[0mn_row\u001b[0m \u001b[0;34m=\u001b[0m \u001b[0;36m0\u001b[0m\u001b[0;34m\u001b[0m\u001b[0;34m\u001b[0m\u001b[0m\n",
      "\u001b[0;31mFileNotFoundError\u001b[0m: [Errno 2] No such file or directory: '/home/tmc/project/instant-ngp/tulagu/rgba_slices'"
     ]
    }
   ],
   "source": [
    "# mypath = \"/home/tmc/project/instant_nerf/data/nerf/fox/rgba_slices\"\n",
    "# output = \"/home/tmc/project/instant_nerf/data/nerf/fox/\"\n",
    "mypath = \"/home/tmc/project/instant-ngp/tulagu/rgba_slices\"\n",
    "output = \"/home/tmc/project/instant-ngp/tulagu/\"\n",
    "onlyfiles = [f for f in listdir(mypath) if isfile(join(mypath, f))]\n",
    "onlyfiles.sort()\n",
    "n_row = 0 \n",
    "n_column = 23 #26\n",
    "rows = None \n",
    "column = None\n",
    "first_run = True\n",
    "first_column_run = True\n",
    "image_index = 0 \n",
    "dimention = None \n",
    "while image_index < len(onlyfiles): \n",
    "# while False: \n",
    "    first_run = True \n",
    "    for i in range(n_column):\n",
    "\n",
    "        if image_index < len(onlyfiles): \n",
    "            image = Image.open(f\"{mypath}/{onlyfiles[image_index]}\")\n",
    "            image = np.asarray(image)\n",
    "            image_index = image_index + 1 \n",
    "            # image = np.ones_like(image)\n",
    "            # image[:,:] = (0, 0, 0, 255)\n",
    "            # if image_index == 400:\n",
    "            #     plt.imshow(image)\n",
    "            #     plt.show()\n",
    "        else: \n",
    "            image = np.ones(dimention)\n",
    "            # image[:,:] = (0, 0, 0, 255)\n",
    "           \n",
    "        if first_run : \n",
    "            column = image\n",
    "            first_run = False\n",
    "            dimention = image.shape    \n",
    "        else: \n",
    "            column = np.hstack((column, image))\n",
    "    # image_index = len(onlyfiles)\n",
    "        # plt.imshow(image)\n",
    "        # plt.show()\n",
    "    if first_column_run: \n",
    "        rows = column\n",
    "        first_column_run = False  \n",
    "    else: \n",
    "        rows = np.vstack((rows, column))\n",
    "    print(rows.shape)\n",
    "\n",
    "# print(dimention)\n",
    "rows = np.float32(rows)\n",
    "rows = cv2.cvtColor(rows, cv2.COLOR_BGRA2RGBA)\n",
    "# Image.fromarray(rows).save(f\"{output}/grid.png\", rows)\n",
    "cv2.imwrite(f\"{output}/grid.png\", rows)\n",
    "print(rows.shape)\n",
    "print(rows.shape[1] / dimention[1])\n",
    "print(rows.shape[0] / dimention[0])\n",
    "plt.imshow(rows)\n",
    "plt.show()"
   ]
  },
  {
   "cell_type": "code",
   "execution_count": null,
   "metadata": {},
   "outputs": [],
   "source": [
    "image = np.zeros((255, 255, 4))\n",
    "cv2.imwrite(f\"{output}/grid.png\", image)\n",
    "\n"
   ]
  },
  {
   "cell_type": "code",
   "execution_count": null,
   "metadata": {},
   "outputs": [],
   "source": [
    "from PIL import Image\n",
    "\n",
    "from os import listdir\n",
    "from os.path import isfile, join\n",
    "mypath = \"/home/tmc/project/instant_nerf/data/nerf/fox/rgba_slices2\"\n",
    "output = \"/home/tmc/project/instant_nerf/data/nerf/fox/\"\n",
    "files = [ f for f in listdir(mypath) if isfile(join(mypath, f)) ]\n",
    "files.sort()\n",
    "single_image_dimention = 256\n",
    "image_per_row = 100\n",
    "ncol = math.ceil(len(files) / image_per_row)\n",
    "\n",
    "new_im = Image.new('RGB', (single_image_dimention * image_per_row, single_image_dimention * image_per_row))\n",
    "index = 0\n",
    "for i in range(0,single_image_dimention * image_per_row, single_image_dimention):\n",
    "    if index >= len(files):\n",
    "            break\n",
    "    for j in range(0, ncol * single_image_dimention, single_image_dimention):\n",
    "        im = Image.open(f\"{mypath}/{files[index]}\")\n",
    "        im.thumbnail((single_image_dimention, single_image_dimention))\n",
    "        new_im.paste(im, (i,j))\n",
    "        index += 1\n",
    "        if index >= len(files):\n",
    "            break\n",
    "\n",
    "new_im.save(f\"{output}/grid.png\")\n"
   ]
  },
  {
   "cell_type": "code",
   "execution_count": null,
   "metadata": {},
   "outputs": [],
   "source": [
    "\n",
    "\n",
    "dtype = np.dtype('B')\n",
    "\n",
    "try:\n",
    "    with open(\"/home/tmc/project/nerf_pl/volume/lego.vol\", \"rb\") as f:\n",
    "        numpy_data = np.fromfile(f,dtype)\n",
    "    # print(len(numpy_data))\n",
    "except IOError:\n",
    "    print('Error While Opening the file!')    \n",
    "\n",
    "index = 0\n",
    "vF = [] \n",
    "while index < len(numpy_data): \n",
    "    temp = [numpy_data[index], numpy_data[index + 1], numpy_data[index + 2], numpy_data[index + 3]]\n",
    "    byte_iterable =  bytes(temp)\n",
    "    final_value = int.from_bytes(byte_iterable, byteorder='little')\n",
    "    vF.append(final_value)\n",
    "    index += 4 "
   ]
  },
  {
   "cell_type": "code",
   "execution_count": null,
   "metadata": {},
   "outputs": [],
   "source": [
    "size = 512\n",
    "height = 512\n",
    "width = 512\n",
    "img = np.zeros((height,width,3), np.uint8)\n",
    "slices = []\n",
    "for i in range(size):\n",
    "    img = np.zeros((height,width,4), np.uint8)\n",
    "    slices.append(img)"
   ]
  },
  {
   "cell_type": "code",
   "execution_count": null,
   "metadata": {},
   "outputs": [],
   "source": [
    "plane = slices[0]\n",
    "plane[0, 0][0] = 0"
   ]
  },
  {
   "cell_type": "code",
   "execution_count": null,
   "metadata": {},
   "outputs": [],
   "source": [
    "c = 0 \n",
    "while c < len(vF): \n",
    "    x = int(vF[c])\n",
    "    i = int(x / size / size )\n",
    "    j = int((x - size * size * i) / size)\n",
    "    k = int(x % size) \n",
    "    col = vF[c + 1]\n",
    "    r = ((col & 0xFF000000) >> 24) / 255.0\n",
    "    g = ((col & 0x00FF0000) >> 16) / 255.0\n",
    "    b = ((col & 0x0000FF00) >> 8) / 255.0\n",
    "    a = (col & 0x000000FF) / 255.0\n",
    "    # if r > 0 or g > 0 or b >> 0 or a >> 0: \n",
    "    #     print(f\"WTF: r: {r}, g: {g}, b: {b}\")\n",
    "    slice = slices[i]\n",
    "    slice[k, j][0] = b * 255\n",
    "    slice[k, j][1] = g * 255\n",
    "    slice[k, j][2] = r * 255\n",
    "    slice[k, j][3] = a  * 255\n",
    "    c+=2 \n"
   ]
  },
  {
   "cell_type": "code",
   "execution_count": null,
   "metadata": {},
   "outputs": [],
   "source": [
    "512 / 8"
   ]
  },
  {
   "cell_type": "code",
   "execution_count": null,
   "metadata": {},
   "outputs": [],
   "source": [
    "def gallery(array, ncols=3):\n",
    "    nindex, height, width, intensity = array.shape\n",
    "    nrows = nindex//ncols\n",
    "    assert nindex == nrows*ncols\n",
    "    # want result.shape = (height*nrows, width*ncols, intensity)\n",
    "    result = (array.reshape(nrows, ncols, height, width, intensity)\n",
    "              .swapaxes(1,2)\n",
    "              .reshape(height*nrows, width*ncols, intensity))\n",
    "    return result\n",
    "\n",
    "def make_array():\n",
    "    from PIL import Image\n",
    "    return np.array([np.asarray(Image.open('face.png').convert('RGB'))]*12)\n",
    "\n",
    "# array = make_array()\n",
    "array = np.array(slices)\n",
    "print(array.shape)\n",
    "print(len(slices))\n",
    "\n",
    "result = gallery(array, 8 * 4)\n",
    "# result = gallery(array)\n",
    "\n",
    "# result = np.array(slices)\n",
    "# plt.imshow(result)\n",
    "# plt.show()\n",
    "path = \"/home/tmc/project/nerf_pl/img/\"\n",
    "cv2.imwrite(f\"{path}/grid.png\", result)"
   ]
  },
  {
   "cell_type": "code",
   "execution_count": null,
   "metadata": {},
   "outputs": [],
   "source": [
    "counter = 0\n",
    "path = \"/home/tmc/project/nerf_pl/img/\"\n",
    "for img in slices: \n",
    "    cv2.imwrite(f\"{path}/img_{counter}.png\", img)\n",
    "    counter += 1 \n",
    "    \n",
    "    "
   ]
  },
  {
   "cell_type": "code",
   "execution_count": null,
   "metadata": {},
   "outputs": [],
   "source": [
    "# slices_new = []\n",
    "# for afile in slices:\n",
    "     \n",
    "#     arr = np.array(afile).flatten('C')  #if image gets transposed, then flatten('F')\n",
    "#     slices_new.append(arr)\n",
    "\n",
    "arr2 = np.array(slices).flatten('C').astype('short')\n",
    "arr2.tofile(f\"{path}OutputFile.raw\")"
   ]
  },
  {
   "cell_type": "code",
   "execution_count": null,
   "metadata": {},
   "outputs": [],
   "source": []
  },
  {
   "cell_type": "code",
   "execution_count": null,
   "metadata": {},
   "outputs": [],
   "source": [
    "    \n",
    "    c += 2 \n",
    "for (int c = 0; c < vF.Length; c += 2)\n",
    "        {\n",
    "            int x = (int)vF[c];\n",
    "            int i = x / size / size;\n",
    "            int j = (x - size * size * i) / size;\n",
    "            int k = x % size;\n",
    "            uint col = vF[c + 1];\n",
    "            float r = ((col & 0xFF000000) >> 24) / 255.0f;\n",
    "            float g = ((col & 0x00FF0000) >> 16) / 255.0f;\n",
    "            float b = ((col & 0x0000FF00) >> 8) / 255.0f;\n",
    "            float a = (col & 0x000000FF) / 255.0f;\n",
    "\n",
    "            Color color = new Color(r, g, b, a);\n",
    "            tex.SetPixel(k, j, i, color);\n",
    "        }\n"
   ]
  }
 ],
 "metadata": {
  "interpreter": {
   "hash": "d5350fde36f44519908a34337d74866a951ee78586f0c854df6213699229e261"
  },
  "kernelspec": {
   "display_name": "Python 3.6.13 ('nerf_pl')",
   "language": "python",
   "name": "python3"
  },
  "language_info": {
   "codemirror_mode": {
    "name": "ipython",
    "version": 3
   },
   "file_extension": ".py",
   "mimetype": "text/x-python",
   "name": "python",
   "nbconvert_exporter": "python",
   "pygments_lexer": "ipython3",
   "version": "3.6.13"
  },
  "orig_nbformat": 4
 },
 "nbformat": 4,
 "nbformat_minor": 2
}
