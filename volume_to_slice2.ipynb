{
 "cells": [
  {
   "cell_type": "code",
   "execution_count": 33,
   "metadata": {},
   "outputs": [],
   "source": [
    "import numpy as np \n",
    "import cv2\n",
    "import numpy as np\n",
    "import matplotlib.pyplot as plt"
   ]
  },
  {
   "cell_type": "code",
   "execution_count": 1,
   "metadata": {},
   "outputs": [],
   "source": [
    "\n",
    "\n",
    "dtype = np.dtype('B')\n",
    "\n",
    "try:\n",
    "    with open(\"/home/tmc/project/nerf_pl/volume/lego.vol\", \"rb\") as f:\n",
    "        numpy_data = np.fromfile(f,dtype)\n",
    "    # print(len(numpy_data))\n",
    "except IOError:\n",
    "    print('Error While Opening the file!')    \n",
    "\n",
    "index = 0\n",
    "vF = [] \n",
    "while index < len(numpy_data): \n",
    "    temp = [numpy_data[index], numpy_data[index + 1], numpy_data[index + 2], numpy_data[index + 3]]\n",
    "    byte_iterable =  bytes(temp)\n",
    "    final_value = int.from_bytes(byte_iterable, byteorder='little')\n",
    "    vF.append(final_value)\n",
    "    index += 4 "
   ]
  },
  {
   "cell_type": "code",
   "execution_count": 13,
   "metadata": {},
   "outputs": [],
   "source": [
    "size = 512\n",
    "height = 512\n",
    "width = 512\n",
    "img = np.zeros((height,width,3), np.uint8)\n",
    "slices = []\n",
    "for i in range(size):\n",
    "    img = np.zeros((height,width,4), np.uint8)\n",
    "    slices.append(img)"
   ]
  },
  {
   "cell_type": "code",
   "execution_count": 20,
   "metadata": {},
   "outputs": [],
   "source": [
    "plane = slices[0]\n",
    "plane[0, 0][0] = 0"
   ]
  },
  {
   "cell_type": "code",
   "execution_count": 31,
   "metadata": {},
   "outputs": [],
   "source": [
    "c = 0 \n",
    "while c < len(vF): \n",
    "    x = int(vF[c])\n",
    "    i = int(x / size / size )\n",
    "    j = int((x - size * size * i) / size)\n",
    "    k = int(x % size) \n",
    "    col = vF[c + 1]\n",
    "    r = ((col & 0xFF000000) >> 24) / 255.0\n",
    "    g = ((col & 0x00FF0000) >> 16) / 255.0\n",
    "    b = ((col & 0x0000FF00) >> 8) / 255.0\n",
    "    a = (col & 0x000000FF) / 255.0\n",
    "    # if r > 0 or g > 0 or b >> 0 or a >> 0: \n",
    "    #     print(f\"WTF: r: {r}, g: {g}, b: {b}\")\n",
    "    slice = slices[i]\n",
    "    slice[k, j][0] = b * 255\n",
    "    slice[k, j][1] = g * 255\n",
    "    slice[k, j][2] = r * 255\n",
    "    slice[k, j][3] = a  * 255\n",
    "    c+=2 \n"
   ]
  },
  {
   "cell_type": "code",
   "execution_count": 46,
   "metadata": {},
   "outputs": [
    {
     "data": {
      "text/plain": [
       "64.0"
      ]
     },
     "execution_count": 46,
     "metadata": {},
     "output_type": "execute_result"
    }
   ],
   "source": [
    "512 / 8"
   ]
  },
  {
   "cell_type": "code",
   "execution_count": 51,
   "metadata": {},
   "outputs": [
    {
     "name": "stdout",
     "output_type": "stream",
     "text": [
      "(512, 512, 512, 4)\n",
      "512\n"
     ]
    },
    {
     "data": {
      "text/plain": [
       "True"
      ]
     },
     "execution_count": 51,
     "metadata": {},
     "output_type": "execute_result"
    }
   ],
   "source": [
    "def gallery(array, ncols=3):\n",
    "    nindex, height, width, intensity = array.shape\n",
    "    nrows = nindex//ncols\n",
    "    assert nindex == nrows*ncols\n",
    "    # want result.shape = (height*nrows, width*ncols, intensity)\n",
    "    result = (array.reshape(nrows, ncols, height, width, intensity)\n",
    "              .swapaxes(1,2)\n",
    "              .reshape(height*nrows, width*ncols, intensity))\n",
    "    return result\n",
    "\n",
    "def make_array():\n",
    "    from PIL import Image\n",
    "    return np.array([np.asarray(Image.open('face.png').convert('RGB'))]*12)\n",
    "\n",
    "# array = make_array()\n",
    "array = np.array(slices)\n",
    "print(array.shape)\n",
    "print(len(slices))\n",
    "\n",
    "result = gallery(array, 8 * 4)\n",
    "# result = gallery(array)\n",
    "\n",
    "# result = np.array(slices)\n",
    "# plt.imshow(result)\n",
    "# plt.show()\n",
    "path = \"/home/tmc/project/nerf_pl/img/\"\n",
    "cv2.imwrite(f\"{path}/grid.png\", result)"
   ]
  },
  {
   "cell_type": "code",
   "execution_count": 32,
   "metadata": {},
   "outputs": [],
   "source": [
    "counter = 0\n",
    "path = \"/home/tmc/project/nerf_pl/img/\"\n",
    "for img in slices: \n",
    "    cv2.imwrite(f\"{path}/img_{counter}.png\", img)\n",
    "    counter += 1 \n",
    "    \n",
    "    "
   ]
  },
  {
   "cell_type": "code",
   "execution_count": 30,
   "metadata": {},
   "outputs": [],
   "source": [
    "# slices_new = []\n",
    "# for afile in slices:\n",
    "     \n",
    "#     arr = np.array(afile).flatten('C')  #if image gets transposed, then flatten('F')\n",
    "#     slices_new.append(arr)\n",
    "\n",
    "arr2 = np.array(slices).flatten('C').astype('short')\n",
    "arr2.tofile(f\"{path}OutputFile.raw\")"
   ]
  },
  {
   "cell_type": "code",
   "execution_count": null,
   "metadata": {},
   "outputs": [],
   "source": []
  },
  {
   "cell_type": "code",
   "execution_count": null,
   "metadata": {},
   "outputs": [],
   "source": [
    "    \n",
    "    c += 2 \n",
    "for (int c = 0; c < vF.Length; c += 2)\n",
    "        {\n",
    "            int x = (int)vF[c];\n",
    "            int i = x / size / size;\n",
    "            int j = (x - size * size * i) / size;\n",
    "            int k = x % size;\n",
    "            uint col = vF[c + 1];\n",
    "            float r = ((col & 0xFF000000) >> 24) / 255.0f;\n",
    "            float g = ((col & 0x00FF0000) >> 16) / 255.0f;\n",
    "            float b = ((col & 0x0000FF00) >> 8) / 255.0f;\n",
    "            float a = (col & 0x000000FF) / 255.0f;\n",
    "\n",
    "            Color color = new Color(r, g, b, a);\n",
    "            tex.SetPixel(k, j, i, color);\n",
    "        }\n"
   ]
  }
 ],
 "metadata": {
  "interpreter": {
   "hash": "d5350fde36f44519908a34337d74866a951ee78586f0c854df6213699229e261"
  },
  "kernelspec": {
   "display_name": "Python 3.6.13 ('nerf_pl')",
   "language": "python",
   "name": "python3"
  },
  "language_info": {
   "codemirror_mode": {
    "name": "ipython",
    "version": 3
   },
   "file_extension": ".py",
   "mimetype": "text/x-python",
   "name": "python",
   "nbconvert_exporter": "python",
   "pygments_lexer": "ipython3",
   "version": "3.6.13"
  },
  "orig_nbformat": 4
 },
 "nbformat": 4,
 "nbformat_minor": 2
}
